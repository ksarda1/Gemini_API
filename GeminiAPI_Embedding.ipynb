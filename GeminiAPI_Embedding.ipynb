{
  "nbformat": 4,
  "nbformat_minor": 0,
  "metadata": {
    "colab": {
      "provenance": [],
      "gpuType": "T4",
      "authorship_tag": "ABX9TyO43SCU/cC8I1wJrPLpnWiL",
      "include_colab_link": true
    },
    "kernelspec": {
      "name": "python3",
      "display_name": "Python 3"
    },
    "language_info": {
      "name": "python"
    },
    "accelerator": "GPU"
  },
  "cells": [
    {
      "cell_type": "markdown",
      "metadata": {
        "id": "view-in-github",
        "colab_type": "text"
      },
      "source": [
        "<a href=\"https://colab.research.google.com/github/ksarda1/Gemini_API/blob/main/GeminiAPI_Embedding.ipynb\" target=\"_parent\"><img src=\"https://colab.research.google.com/assets/colab-badge.svg\" alt=\"Open In Colab\"/></a>"
      ]
    },
    {
      "cell_type": "code",
      "execution_count": null,
      "metadata": {
        "id": "7oEPQbgg2JJh"
      },
      "outputs": [],
      "source": [
        "!pip install google-generativeai"
      ]
    },
    {
      "cell_type": "code",
      "source": [
        "# Generation Config\n",
        "# History of Chat\n",
        "# Count Tokens through inbuilt function\n",
        "# Generate Embeddings\n",
        "# Configure various safety settings\n",
        "\n",
        "import google.generativeai as genai\n",
        "\n",
        "from google.colab import userdata\n",
        "GOOGLE_API_KEY=userdata.get('GOOGLE_API_KEY')\n",
        "genai.configure(api_key=GOOGLE_API_KEY)"
      ],
      "metadata": {
        "id": "RtWihHHxTtTu"
      },
      "execution_count": 6,
      "outputs": []
    },
    {
      "cell_type": "code",
      "source": [
        "# Generation Configuration\n",
        "# generation_config allows us to control the prameters of model"
      ],
      "metadata": {
        "id": "DupK6fwZUDZW"
      },
      "execution_count": 3,
      "outputs": []
    },
    {
      "cell_type": "code",
      "source": [
        "model = genai.GenerativeModel('gemini-pro')"
      ],
      "metadata": {
        "id": "_TnmZi81U_Kf"
      },
      "execution_count": 4,
      "outputs": []
    },
    {
      "cell_type": "code",
      "source": [
        "model.generate_content(\"tell a story\").text"
      ],
      "metadata": {
        "colab": {
          "base_uri": "https://localhost:8080/",
          "height": 127
        },
        "id": "ZeprxZCVVHz9",
        "outputId": "2591f4d2-c45d-4b4f-a9c2-9e0ee36da50e"
      },
      "execution_count": 7,
      "outputs": [
        {
          "output_type": "execute_result",
          "data": {
            "text/plain": [
              "\"In the quaint town of Willow Creek, where secrets whispered through the cobblestone streets, there lived a young woman named Anya. With long, flowing hair the color of autumn leaves and eyes that sparkled with a haunting beauty, she possessed a quiet strength and an unassuming nature.\\n\\nOne ordinary evening, as Anya strolled through the town square, her gaze fell upon an antique store nestled amidst the bustle of shops. Intrigued, she stepped inside, her senses overwhelmed by the musty scent of paper and the soft glow of flickering lanterns.\\n\\nAs she browsed the dusty shelves, her hand brushed against a heavy, leather-bound journal hidden behind an ornate tapestry. Curious, she lifted it out and flipped through the yellowed pages. The words on the page jumped out at her, written in a spidery script that seemed both ancient and familiar.\\n\\nAs she read, Anya felt a strange connection to the author, a woman named Eleanor Hawthorne. Eleanor had lived in Willow Creek over a century ago, and her journal chronicled her extraordinary life: a forbidden love affair, a tragic betrayal, and a secret that haunted her until her dying day.\\n\\nCaptivated by Eleanor's story, Anya resolved to uncover the truth that lay hidden within its pages. She spent countless hours poring over the journal, becoming engrossed in Eleanor's world. As she pieced together the puzzle, she realized that the secret Eleanor had kept was something that could shake the foundations of the town.\\n\\nWith each discovery, Anya's fascination turned into a burning desire for justice. However, as she delved deeper into the past, she became aware of a sinister force that was determined to keep the truth buried. Threats followed her every step, whispers carried by the wind warning her to abandon her quest.\\n\\nUndeterred, Anya sought the help of her eccentric neighbor, Professor Ashworth, an historian with a penchant for the unknown. Together, they embarked on a perilous journey to uncover the truth and lay Eleanor Hawthorne's restless spirit to rest.\\n\\nIn a dusty attic beneath the eaves of the town hall, Anya and Professor Ashworth discovered a hidden cache of letters, proving that Eleanor's betrayal had been orchestrated by a wealthy and influential family in town. The secret had been kept hidden for generations, but now, finally, the truth was out.\\n\\nWith the evidence in hand, Anya confronted the descendants of the family responsible for Eleanor's downfall. Trembling with rage and newfound determination, she exposed their lies and forced them to answer for their ancestors' crimes.\\n\\nAs the scandal rocked Willow Creek, Anya's reputation shifted from that of an unassuming artist to a fearless champion for justice. The townspeople, once indifferent, rallied behind her, eager to right the wrongs of the past.\\n\\nIn the end, Eleanor Hawthorne's secret shattered the veil of silence that had shrouded Willow Creek for so long. And as the truth set her spirit free, the town found a new sense of healing and reconciliation, all thanks to the courage of a young woman and the legacy of a long-forgotten artist.\""
            ],
            "application/vnd.google.colaboratory.intrinsic+json": {
              "type": "string"
            }
          },
          "metadata": {},
          "execution_count": 7
        }
      ]
    },
    {
      "cell_type": "code",
      "source": [],
      "metadata": {
        "id": "WdhJ1UGRVO8p"
      },
      "execution_count": null,
      "outputs": []
    }
  ]
}